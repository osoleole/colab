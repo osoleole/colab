{
  "nbformat": 4,
  "nbformat_minor": 0,
  "metadata": {
    "colab": {
      "name": "TF-2.ipynb",
      "version": "0.3.2",
      "provenance": [],
      "collapsed_sections": [],
      "include_colab_link": true
    },
    "kernelspec": {
      "name": "python3",
      "display_name": "Python 3"
    },
    "accelerator": "GPU"
  },
  "cells": [
    {
      "cell_type": "markdown",
      "metadata": {
        "id": "view-in-github",
        "colab_type": "text"
      },
      "source": [
        "<a href=\"https://colab.research.google.com/github/osoleole/colab/blob/master/TF_2.ipynb\" target=\"_parent\"><img src=\"https://colab.research.google.com/assets/colab-badge.svg\" alt=\"Open In Colab\"/></a>"
      ]
    },
    {
      "cell_type": "markdown",
      "metadata": {
        "id": "PJf5shrOrJdg",
        "colab_type": "text"
      },
      "source": [
        "## Installation\n",
        "[Manual on Colab](https://medium.com/deep-learning-turkey/google-colab-free-gpu-tutorial-e113627b9f5d)\n",
        "### Tensorflow 2\n",
        "```python\n",
        "!pip install tensorflow-gpu==2.0.0-rc0\n",
        "```"
      ]
    },
    {
      "cell_type": "code",
      "metadata": {
        "id": "IliA56LeRffZ",
        "colab_type": "code",
        "colab": {}
      },
      "source": [
        "#!pip install --upgrade tfp-nightly\n",
        "!pip install tensorflow-gpu==2.0.0-rc0"
      ],
      "execution_count": 0,
      "outputs": []
    },
    {
      "cell_type": "code",
      "metadata": {
        "id": "R2_OFN8rqmAI",
        "colab_type": "code",
        "colab": {}
      },
      "source": [
        "import numpy as np\n",
        "import tensorflow as tf\n",
        "from tensorflow import keras\n",
        "from tensorflow.keras import layers\n",
        "\n",
        "from sklearn import datasets\n",
        "from sklearn.preprocessing import OneHotEncoder\n",
        "\n",
        "import pandas as pd\n",
        "import xgboost\n",
        "\n",
        "#import tensorflow_probability as tfp\n",
        "#from tensorflow_probability import distributions as tfd\n",
        "#from tensorflow_probability import sts\n",
        "\n",
        "import matplotlib\n",
        "import matplotlib.pyplot as plt\n",
        "matplotlib.style.use('ggplot')\n",
        "tf.debugging.set_log_device_placement(True)"
      ],
      "execution_count": 0,
      "outputs": []
    },
    {
      "cell_type": "code",
      "metadata": {
        "id": "WNsxhqK_q8Ur",
        "colab_type": "code",
        "colab": {}
      },
      "source": [
        "## Enviroment\n",
        "## Run to get information\n",
        "from tensorflow.python.client import device_lib\n",
        "print(\"Tensorflow version: {}\".format(tf.__version__))\n",
        "print(\"GPU Available: {}\".format(tf.test.is_gpu_available()))\n",
        "print(\"GPU device: {}\".format(tf.test.gpu_device_name()))\n",
        "print(\"Used device: {}\".format(device_lib.list_local_devices()))\n",
        "\n",
        "## memory\n",
        "!cat /proc/meminfo\n",
        "## cpu\n",
        "!cat /proc/cpuinfo"
      ],
      "execution_count": 0,
      "outputs": []
    },
    {
      "cell_type": "code",
      "metadata": {
        "id": "DrrXZe5M445x",
        "colab_type": "code",
        "colab": {}
      },
      "source": [
        "# One hot encoder for categorical data\n",
        "def one_hot_enc(y):\n",
        "    y = y.reshape(-1,1)\n",
        "    ohe = OneHotEncoder(categories='auto')\n",
        "    ohe.fit(y)\n",
        "    return ohe.transform(y).toarray()\n",
        "\n",
        "# Train data 1\n",
        "# Two blobs of normally distributed data\n",
        "n_samples = 1000\n",
        "n_features = 32\n",
        "random_state = 10\n",
        "x1, y1 = datasets.make_blobs(n_samples=n_samples, n_features=n_features, centers=3, \n",
        "           cluster_std=2.0, center_box=(-20.0, 20.0), \n",
        "           shuffle=True, random_state=random_state)\n",
        "# Encode categories to one hot vectors\n",
        "y1 = one_hot_enc(y1)\n",
        "\n",
        "train_to_test = 0.9\n",
        "loc = int(np.ceil(n_samples*train_to_test))\n",
        "x1_train = x1[:loc]\n",
        "y1_train = y1[:loc]\n",
        "x1_test = x1[loc:]\n",
        "y1_test = y1[loc:]"
      ],
      "execution_count": 0,
      "outputs": []
    },
    {
      "cell_type": "code",
      "metadata": {
        "id": "0SEALjvUo6tv",
        "colab_type": "code",
        "colab": {
          "base_uri": "https://localhost:8080/",
          "height": 136
        },
        "outputId": "7ba5aea6-6110-45e8-943e-d816bdf3b9ba"
      },
      "source": [
        "y1"
      ],
      "execution_count": 5,
      "outputs": [
        {
          "output_type": "execute_result",
          "data": {
            "text/plain": [
              "array([[1., 0., 0.],\n",
              "       [1., 0., 0.],\n",
              "       [0., 1., 0.],\n",
              "       ...,\n",
              "       [0., 0., 1.],\n",
              "       [0., 0., 1.],\n",
              "       [0., 1., 0.]])"
            ]
          },
          "metadata": {
            "tags": []
          },
          "execution_count": 5
        }
      ]
    },
    {
      "cell_type": "code",
      "metadata": {
        "id": "CJ_HvkmiPIRy",
        "colab_type": "code",
        "colab": {}
      },
      "source": [
        "batch = 64"
      ],
      "execution_count": 0,
      "outputs": []
    },
    {
      "cell_type": "code",
      "metadata": {
        "id": "nCiBAbJLEBBo",
        "colab_type": "code",
        "colab": {}
      },
      "source": [
        "train_ds = tf.data.Dataset.from_tensor_slices((x1_train,y1_train))\n",
        "train_ds = train_ds.batch(batch)\n",
        "test_ds = tf.data.Dataset.from_tensor_slices((x1_test,y1_test))\n",
        "test_ds = test_ds.batch(batch)"
      ],
      "execution_count": 0,
      "outputs": []
    },
    {
      "cell_type": "code",
      "metadata": {
        "id": "YxG55QzNCVTU",
        "colab_type": "code",
        "colab": {}
      },
      "source": [
        "# Callbacks\n",
        "class Info(keras.callbacks.Callback):\n",
        "  def on_batch_end(self, batch, logs={}):\n",
        "    print(\"Batch ended\")\n",
        "\n",
        "info_cb = Info()"
      ],
      "execution_count": 0,
      "outputs": []
    },
    {
      "cell_type": "code",
      "metadata": {
        "id": "qfqP1DcGmgnl",
        "colab_type": "code",
        "colab": {}
      },
      "source": [
        "# Functional API\n",
        "inputs = tf.keras.Input(shape=(32,), name='input_1')\n",
        "x = layers.Dense(32, activation='relu', name='dense_1')(inputs)\n",
        "#x = layers.Dense(64, activation='sigmoid', name='dense_2')(x)\n",
        "x = layers.BatchNormalization(axis=-1)(x)\n",
        "predictions = layers.Dense(3, activation='softmax',name='output_1')(x)\n",
        "# Model\n",
        "fmodel = tf.keras.Model(inputs=inputs, outputs=predictions)\n",
        "# Compile\n",
        "fmodel.compile(optimizer=tf.keras.optimizers.Adam(0.1),\n",
        "              loss='categorical_crossentropy',\n",
        "              metrics=['accuracy'])"
      ],
      "execution_count": 0,
      "outputs": []
    },
    {
      "cell_type": "code",
      "metadata": {
        "id": "ca5vtfDvsjD4",
        "colab_type": "code",
        "colab": {}
      },
      "source": [
        "print(fmodel.summary())\n",
        "#fmodel.layers[1].get_weights()[0].shape\n",
        "#keras.utils.plot_model(fmodel, 'fmodel_1.png', show_shapes=True)"
      ],
      "execution_count": 0,
      "outputs": []
    },
    {
      "cell_type": "code",
      "metadata": {
        "id": "tgMlvxBenRFI",
        "colab_type": "code",
        "colab": {}
      },
      "source": [
        "fmodel.fit(train_ds, epochs=10, callbacks=[])"
      ],
      "execution_count": 0,
      "outputs": []
    },
    {
      "cell_type": "code",
      "metadata": {
        "id": "LzEwp6CwJjf9",
        "colab_type": "code",
        "colab": {}
      },
      "source": [
        "tf.config.experimental.list_logical_devices()\n"
      ],
      "execution_count": 0,
      "outputs": []
    },
    {
      "cell_type": "code",
      "metadata": {
        "id": "dztSUfyjNKH5",
        "colab_type": "code",
        "colab": {}
      },
      "source": [
        "range_ds = tf.data.Dataset.range(100000)"
      ],
      "execution_count": 0,
      "outputs": []
    },
    {
      "cell_type": "code",
      "metadata": {
        "id": "Y16ZLziyOY_a",
        "colab_type": "code",
        "colab": {}
      },
      "source": [
        "batches = range_ds.batch(10, drop_remainder=True)"
      ],
      "execution_count": 0,
      "outputs": []
    },
    {
      "cell_type": "code",
      "metadata": {
        "id": "LBIKgi2QO1ka",
        "colab_type": "code",
        "colab": {
          "base_uri": "https://localhost:8080/",
          "height": 102
        },
        "outputId": "9508de1f-889f-4c35-cbee-79802cea22d7"
      },
      "source": [
        "for batch in batches.take(5):\n",
        "  print(batch.numpy())"
      ],
      "execution_count": 15,
      "outputs": [
        {
          "output_type": "stream",
          "text": [
            "[0 1 2 3 4 5 6 7 8 9]\n",
            "[10 11 12 13 14 15 16 17 18 19]\n",
            "[20 21 22 23 24 25 26 27 28 29]\n",
            "[30 31 32 33 34 35 36 37 38 39]\n",
            "[40 41 42 43 44 45 46 47 48 49]\n"
          ],
          "name": "stdout"
        }
      ]
    },
    {
      "cell_type": "code",
      "metadata": {
        "id": "urM3WQFNPDXi",
        "colab_type": "code",
        "colab": {
          "base_uri": "https://localhost:8080/",
          "height": 51
        },
        "outputId": "dea269dc-ac67-4bf6-e53f-2d210b5567c6"
      },
      "source": [
        "a = tf.constant([1.,2.,3.])\n",
        "a[-1].numpy()"
      ],
      "execution_count": 20,
      "outputs": [
        {
          "output_type": "stream",
          "text": [
            "Executing op StridedSlice in device /job:localhost/replica:0/task:0/device:GPU:0\n"
          ],
          "name": "stdout"
        },
        {
          "output_type": "execute_result",
          "data": {
            "text/plain": [
              "3.0"
            ]
          },
          "metadata": {
            "tags": []
          },
          "execution_count": 20
        }
      ]
    },
    {
      "cell_type": "code",
      "metadata": {
        "id": "tB7YA8fH3DPt",
        "colab_type": "code",
        "colab": {}
      },
      "source": [
        "# Sequential API\n",
        "model = tf.keras.Sequential([\n",
        "layers.Dense(10, activation='sigmoid', input_shape=(32,)),\n",
        "#layers.Dense(10, activation='sigmoid'),\n",
        "layers.Dense(3, activation='softmax')])\n",
        "\n",
        "model.compile(optimizer=tf.keras.optimizers.Adam(0.01),\n",
        "              loss='categorical_crossentropy',\n",
        "              metrics=['categorical_accuracy'])"
      ],
      "execution_count": 0,
      "outputs": []
    },
    {
      "cell_type": "code",
      "metadata": {
        "id": "qD0PjIMYNi9A",
        "colab_type": "code",
        "colab": {}
      },
      "source": [
        "# Train and validate\n",
        "model.fit(train_ds, epochs=10, validation_data=test_ds)"
      ],
      "execution_count": 0,
      "outputs": []
    },
    {
      "cell_type": "code",
      "metadata": {
        "id": "prqsvvG4NzyS",
        "colab_type": "code",
        "colab": {}
      },
      "source": [
        "model.evaluate(test_ds)"
      ],
      "execution_count": 0,
      "outputs": []
    },
    {
      "cell_type": "code",
      "metadata": {
        "id": "JOLhEYd-knlu",
        "colab_type": "code",
        "colab": {}
      },
      "source": [
        "x1_test[0]"
      ],
      "execution_count": 0,
      "outputs": []
    },
    {
      "cell_type": "code",
      "metadata": {
        "id": "mb0dP4IokSzJ",
        "colab_type": "code",
        "colab": {}
      },
      "source": [
        "## Input data\n",
        "in_1 = x1_test[0].reshape(1,-1)\n",
        "print(\"Prediction:\", model.predict(in_1))\n",
        "print(\"True: \", y1_test[0] )"
      ],
      "execution_count": 0,
      "outputs": []
    },
    {
      "cell_type": "code",
      "metadata": {
        "id": "OqyMp9cHpFUQ",
        "colab_type": "code",
        "colab": {}
      },
      "source": [
        "x1, y2 = datasets.make_blobs(n_samples=n_samples, n_features=n_features, centers=3, \n",
        "           cluster_std=2.0, center_box=(-20.0, 20.0), \n",
        "           shuffle=True, random_state=random_state)"
      ],
      "execution_count": 0,
      "outputs": []
    },
    {
      "cell_type": "code",
      "metadata": {
        "id": "AkUUFShtpJyh",
        "colab_type": "code",
        "colab": {}
      },
      "source": [
        "y2"
      ],
      "execution_count": 0,
      "outputs": []
    },
    {
      "cell_type": "code",
      "metadata": {
        "id": "2iVIs7rHlCR-",
        "colab_type": "code",
        "colab": {
          "base_uri": "https://localhost:8080/",
          "height": 136
        },
        "outputId": "bdf56d62-f1c7-40cc-9d79-7c17ee7bee86"
      },
      "source": [
        "keras.utils.to_categorical(y2, num_classes=3)"
      ],
      "execution_count": 17,
      "outputs": [
        {
          "output_type": "execute_result",
          "data": {
            "text/plain": [
              "array([[1., 0., 0.],\n",
              "       [1., 0., 0.],\n",
              "       [0., 1., 0.],\n",
              "       ...,\n",
              "       [0., 0., 1.],\n",
              "       [0., 0., 1.],\n",
              "       [0., 1., 0.]], dtype=float32)"
            ]
          },
          "metadata": {
            "tags": []
          },
          "execution_count": 17
        }
      ]
    },
    {
      "cell_type": "code",
      "metadata": {
        "id": "kYZCM__Tz60w",
        "colab_type": "code",
        "colab": {
          "base_uri": "https://localhost:8080/",
          "height": 34
        },
        "outputId": "9c23a032-3c66-40ec-d50f-bca5d664caa4"
      },
      "source": [
        "keras.utils.normalize([3.,4.,5.,4.], axis=-1, order=2)"
      ],
      "execution_count": 25,
      "outputs": [
        {
          "output_type": "execute_result",
          "data": {
            "text/plain": [
              "array([[0.36927447, 0.49236596, 0.61545745, 0.49236596]])"
            ]
          },
          "metadata": {
            "tags": []
          },
          "execution_count": 25
        }
      ]
    }
  ]
}